{
 "cells": [
  {
   "cell_type": "code",
   "execution_count": 1,
   "metadata": {},
   "outputs": [],
   "source": [
    "from symrobotics.kinematics import Kinematics, DHTable"
   ]
  },
  {
   "cell_type": "code",
   "execution_count": 2,
   "metadata": {},
   "outputs": [
    {
     "data": {
      "text/latex": [
       "$\\displaystyle \\left[\\begin{matrix}a_{1} & 0 & 0 & \\theta_{0}\\\\a_{2} & 0 & 0 & \\theta_{1}\\\\0 & 0 & d_{2} & 0\\\\0 & 0 & 0 & \\theta_{3}\\end{matrix}\\right]$"
      ],
      "text/plain": [
       "Matrix([\n",
       "[a1, 0,   0, \\theta_0],\n",
       "[a2, 0,   0, \\theta_1],\n",
       "[ 0, 0, d_2,        0],\n",
       "[ 0, 0,   0, \\theta_3]])"
      ]
     },
     "execution_count": 2,
     "metadata": {},
     "output_type": "execute_result"
    }
   ],
   "source": [
    "dh = DHTable()\n",
    "dh.add_revolute(a=\"a1\")\n",
    "dh.add_revolute(a=\"a2\")\n",
    "dh.add_prismatic()\n",
    "dh.add_revolute()\n",
    "\n",
    "dh.table"
   ]
  },
  {
   "cell_type": "code",
   "execution_count": 3,
   "metadata": {},
   "outputs": [
    {
     "data": {
      "text/latex": [
       "$\\displaystyle \\left[\\begin{matrix}\\cos{\\left(\\theta_{0} + \\theta_{1} + \\theta_{3} \\right)} & - \\sin{\\left(\\theta_{0} + \\theta_{1} + \\theta_{3} \\right)} & 0 & a_{1} \\cos{\\left(\\theta_{0} \\right)} + a_{2} \\cos{\\left(\\theta_{0} + \\theta_{1} \\right)}\\\\\\sin{\\left(\\theta_{0} + \\theta_{1} + \\theta_{3} \\right)} & \\cos{\\left(\\theta_{0} + \\theta_{1} + \\theta_{3} \\right)} & 0 & a_{1} \\sin{\\left(\\theta_{0} \\right)} + a_{2} \\sin{\\left(\\theta_{0} + \\theta_{1} \\right)}\\\\0 & 0 & 1 & d_{2}\\\\0 & 0 & 0 & 1\\end{matrix}\\right]$"
      ],
      "text/plain": [
       "Matrix([\n",
       "[cos(\\theta_0 + \\theta_1 + \\theta_3), -sin(\\theta_0 + \\theta_1 + \\theta_3), 0, a1*cos(\\theta_0) + a2*cos(\\theta_0 + \\theta_1)],\n",
       "[sin(\\theta_0 + \\theta_1 + \\theta_3),  cos(\\theta_0 + \\theta_1 + \\theta_3), 0, a1*sin(\\theta_0) + a2*sin(\\theta_0 + \\theta_1)],\n",
       "[                                  0,                                    0, 1,                                            d_2],\n",
       "[                                  0,                                    0, 0,                                              1]])"
      ]
     },
     "execution_count": 3,
     "metadata": {},
     "output_type": "execute_result"
    }
   ],
   "source": [
    "kine = Kinematics(dh)\n",
    "kine.fkine()"
   ]
  },
  {
   "cell_type": "code",
   "execution_count": 4,
   "metadata": {},
   "outputs": [
    {
     "data": {
      "text/latex": [
       "$\\displaystyle \\left[\\begin{matrix}- a_{1} \\sin{\\left(\\theta_{0} \\right)} - a_{2} \\sin{\\left(\\theta_{0} + \\theta_{1} \\right)} & - a_{2} \\sin{\\left(\\theta_{0} + \\theta_{1} \\right)} & 0 & 0\\\\a_{1} \\cos{\\left(\\theta_{0} \\right)} + a_{2} \\cos{\\left(\\theta_{0} + \\theta_{1} \\right)} & a_{2} \\cos{\\left(\\theta_{0} + \\theta_{1} \\right)} & 0 & 0\\\\0 & 0 & 1 & 0\\\\0 & 0 & 0 & 0\\\\0 & 0 & 0 & 0\\\\1 & 1 & 0 & 1\\end{matrix}\\right]$"
      ],
      "text/plain": [
       "Matrix([\n",
       "[-a1*sin(\\theta_0) - a2*sin(\\theta_0 + \\theta_1), -a2*sin(\\theta_0 + \\theta_1), 0, 0],\n",
       "[ a1*cos(\\theta_0) + a2*cos(\\theta_0 + \\theta_1),  a2*cos(\\theta_0 + \\theta_1), 0, 0],\n",
       "[                                              0,                            0, 1, 0],\n",
       "[                                              0,                            0, 0, 0],\n",
       "[                                              0,                            0, 0, 0],\n",
       "[                                              1,                            1, 0, 1]])"
      ]
     },
     "execution_count": 4,
     "metadata": {},
     "output_type": "execute_result"
    }
   ],
   "source": [
    "kine.geometric_jacobian()"
   ]
  },
  {
   "cell_type": "code",
   "execution_count": 5,
   "metadata": {},
   "outputs": [
    {
     "data": {
      "text/latex": [
       "$\\displaystyle \\left[\\begin{matrix}- a_{1} \\sin{\\left(\\theta_{0} \\right)} - a_{2} \\sin{\\left(\\theta_{0} + \\theta_{1} \\right)} & - a_{2} \\sin{\\left(\\theta_{0} + \\theta_{1} \\right)} & 0 & 0\\\\a_{1} \\cos{\\left(\\theta_{0} \\right)} + a_{2} \\cos{\\left(\\theta_{0} + \\theta_{1} \\right)} & a_{2} \\cos{\\left(\\theta_{0} + \\theta_{1} \\right)} & 0 & 0\\\\0 & 0 & 1 & 0\\\\0 & 0 & 0 & 0\\\\0 & 0 & 0 & 0\\\\1 & 1 & 0 & 1\\end{matrix}\\right]$"
      ],
      "text/plain": [
       "Matrix([\n",
       "[-a1*sin(\\theta_0) - a2*sin(\\theta_0 + \\theta_1), -a2*sin(\\theta_0 + \\theta_1), 0, 0],\n",
       "[ a1*cos(\\theta_0) + a2*cos(\\theta_0 + \\theta_1),  a2*cos(\\theta_0 + \\theta_1), 0, 0],\n",
       "[                                              0,                            0, 1, 0],\n",
       "[                                              0,                            0, 0, 0],\n",
       "[                                              0,                            0, 0, 0],\n",
       "[                                              1,                            1, 0, 1]])"
      ]
     },
     "execution_count": 5,
     "metadata": {},
     "output_type": "execute_result"
    }
   ],
   "source": [
    "kine.analitical_jacobian()"
   ]
  }
 ],
 "metadata": {
  "kernelspec": {
   "display_name": "Python 3.10.4 ('venv': venv)",
   "language": "python",
   "name": "python3"
  },
  "language_info": {
   "codemirror_mode": {
    "name": "ipython",
    "version": 3
   },
   "file_extension": ".py",
   "mimetype": "text/x-python",
   "name": "python",
   "nbconvert_exporter": "python",
   "pygments_lexer": "ipython3",
   "version": "3.10.4"
  },
  "orig_nbformat": 4,
  "vscode": {
   "interpreter": {
    "hash": "48f12305f12a2b94be6f67896a7e5055883f42c5d7272063bcdf56cb46907ce1"
   }
  }
 },
 "nbformat": 4,
 "nbformat_minor": 2
}
